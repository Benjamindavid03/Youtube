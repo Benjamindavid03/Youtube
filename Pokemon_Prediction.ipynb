{
  "nbformat": 4,
  "nbformat_minor": 0,
  "metadata": {
    "colab": {
      "name": "Pokemon_Prediction.ipynb",
      "provenance": [],
      "collapsed_sections": [],
      "include_colab_link": true
    },
    "kernelspec": {
      "name": "python3",
      "display_name": "Python 3"
    },
    "language_info": {
      "name": "python"
    }
  },
  "cells": [
    {
      "cell_type": "markdown",
      "metadata": {
        "id": "view-in-github",
        "colab_type": "text"
      },
      "source": [
        "<a href=\"https://colab.research.google.com/github/Benjamindavid03/Youtube/blob/main/Pokemon_Prediction.ipynb\" target=\"_parent\"><img src=\"https://colab.research.google.com/assets/colab-badge.svg\" alt=\"Open In Colab\"/></a>"
      ]
    },
    {
      "cell_type": "markdown",
      "source": [
        "# Predicting the Pokemon "
      ],
      "metadata": {
        "id": "PgryAVt4zItk"
      }
    },
    {
      "cell_type": "code",
      "source": [
        "# importing libraries\n",
        "import pandas as pd\n",
        "from sklearn.tree import DecisionTreeClassifier"
      ],
      "metadata": {
        "id": "iDmgw4M3zxCT"
      },
      "execution_count": 23,
      "outputs": []
    },
    {
      "cell_type": "markdown",
      "source": [
        "# Import the Pokemon Data"
      ],
      "metadata": {
        "id": "fp5RMDnGzx16"
      }
    },
    {
      "cell_type": "code",
      "source": [
        "# loading dataset\n",
        "nRowsRead = 1000 # specify 'None' if want to read whole file\n",
        "df1 = pd.read_csv('https://raw.githubusercontent.com/Benjamindavid03/MachineLearning/main/pokePd.csv', delimiter=',', nrows = nRowsRead)\n",
        "df1"
      ],
      "metadata": {
        "id": "L09h6HyyzJ9z",
        "outputId": "aea24a22-6fb5-46bf-bcad-466123f8a90a",
        "colab": {
          "base_uri": "https://localhost:8080/",
          "height": 424
        }
      },
      "execution_count": 24,
      "outputs": [
        {
          "output_type": "execute_result",
          "data": {
            "text/plain": [
              "      ID                    Name                 Type  Total  HP  Attack  \\\n",
              "0      0               Bulbasaur  ['Grass', 'Poison']    318  45      49   \n",
              "1      1                 Ivysaur  ['Grass', 'Poison']    405  60      62   \n",
              "2      2                Venusaur  ['Grass', 'Poison']    525  80      82   \n",
              "3      3  Venusaur Mega Venusaur  ['Grass', 'Poison']    625  80     100   \n",
              "4      4              Charmander             ['Fire']    309  39      52   \n",
              "..   ...                     ...                  ...    ...  ..     ...   \n",
              "995  995               Obstagoon   ['Dark', 'Normal']    520  93      90   \n",
              "996  996              Perrserker            ['Steel']    440  70     110   \n",
              "997  997                 Cursola            ['Ghost']    510  60      95   \n",
              "998  998              Sirfetch'd         ['Fighting']    507  62     135   \n",
              "999  999                Mr. Rime   ['Psychic', 'Ice']    520  80      85   \n",
              "\n",
              "     Defense  Sp.Atk  Sp.Def  Speed  \n",
              "0         49      65      65     45  \n",
              "1         63      80      80     60  \n",
              "2         83     100     100     80  \n",
              "3        123     122     120     80  \n",
              "4         43      60      50     65  \n",
              "..       ...     ...     ...    ...  \n",
              "995      101      60      81     95  \n",
              "996      100      50      60     50  \n",
              "997       50     145     130     30  \n",
              "998       95      68      82     65  \n",
              "999       75     110     100     70  \n",
              "\n",
              "[1000 rows x 10 columns]"
            ],
            "text/html": [
              "\n",
              "  <div id=\"df-f0dca5c2-c94b-46ae-b3a9-348c2c30bed1\">\n",
              "    <div class=\"colab-df-container\">\n",
              "      <div>\n",
              "<style scoped>\n",
              "    .dataframe tbody tr th:only-of-type {\n",
              "        vertical-align: middle;\n",
              "    }\n",
              "\n",
              "    .dataframe tbody tr th {\n",
              "        vertical-align: top;\n",
              "    }\n",
              "\n",
              "    .dataframe thead th {\n",
              "        text-align: right;\n",
              "    }\n",
              "</style>\n",
              "<table border=\"1\" class=\"dataframe\">\n",
              "  <thead>\n",
              "    <tr style=\"text-align: right;\">\n",
              "      <th></th>\n",
              "      <th>ID</th>\n",
              "      <th>Name</th>\n",
              "      <th>Type</th>\n",
              "      <th>Total</th>\n",
              "      <th>HP</th>\n",
              "      <th>Attack</th>\n",
              "      <th>Defense</th>\n",
              "      <th>Sp.Atk</th>\n",
              "      <th>Sp.Def</th>\n",
              "      <th>Speed</th>\n",
              "    </tr>\n",
              "  </thead>\n",
              "  <tbody>\n",
              "    <tr>\n",
              "      <th>0</th>\n",
              "      <td>0</td>\n",
              "      <td>Bulbasaur</td>\n",
              "      <td>['Grass', 'Poison']</td>\n",
              "      <td>318</td>\n",
              "      <td>45</td>\n",
              "      <td>49</td>\n",
              "      <td>49</td>\n",
              "      <td>65</td>\n",
              "      <td>65</td>\n",
              "      <td>45</td>\n",
              "    </tr>\n",
              "    <tr>\n",
              "      <th>1</th>\n",
              "      <td>1</td>\n",
              "      <td>Ivysaur</td>\n",
              "      <td>['Grass', 'Poison']</td>\n",
              "      <td>405</td>\n",
              "      <td>60</td>\n",
              "      <td>62</td>\n",
              "      <td>63</td>\n",
              "      <td>80</td>\n",
              "      <td>80</td>\n",
              "      <td>60</td>\n",
              "    </tr>\n",
              "    <tr>\n",
              "      <th>2</th>\n",
              "      <td>2</td>\n",
              "      <td>Venusaur</td>\n",
              "      <td>['Grass', 'Poison']</td>\n",
              "      <td>525</td>\n",
              "      <td>80</td>\n",
              "      <td>82</td>\n",
              "      <td>83</td>\n",
              "      <td>100</td>\n",
              "      <td>100</td>\n",
              "      <td>80</td>\n",
              "    </tr>\n",
              "    <tr>\n",
              "      <th>3</th>\n",
              "      <td>3</td>\n",
              "      <td>Venusaur Mega Venusaur</td>\n",
              "      <td>['Grass', 'Poison']</td>\n",
              "      <td>625</td>\n",
              "      <td>80</td>\n",
              "      <td>100</td>\n",
              "      <td>123</td>\n",
              "      <td>122</td>\n",
              "      <td>120</td>\n",
              "      <td>80</td>\n",
              "    </tr>\n",
              "    <tr>\n",
              "      <th>4</th>\n",
              "      <td>4</td>\n",
              "      <td>Charmander</td>\n",
              "      <td>['Fire']</td>\n",
              "      <td>309</td>\n",
              "      <td>39</td>\n",
              "      <td>52</td>\n",
              "      <td>43</td>\n",
              "      <td>60</td>\n",
              "      <td>50</td>\n",
              "      <td>65</td>\n",
              "    </tr>\n",
              "    <tr>\n",
              "      <th>...</th>\n",
              "      <td>...</td>\n",
              "      <td>...</td>\n",
              "      <td>...</td>\n",
              "      <td>...</td>\n",
              "      <td>...</td>\n",
              "      <td>...</td>\n",
              "      <td>...</td>\n",
              "      <td>...</td>\n",
              "      <td>...</td>\n",
              "      <td>...</td>\n",
              "    </tr>\n",
              "    <tr>\n",
              "      <th>995</th>\n",
              "      <td>995</td>\n",
              "      <td>Obstagoon</td>\n",
              "      <td>['Dark', 'Normal']</td>\n",
              "      <td>520</td>\n",
              "      <td>93</td>\n",
              "      <td>90</td>\n",
              "      <td>101</td>\n",
              "      <td>60</td>\n",
              "      <td>81</td>\n",
              "      <td>95</td>\n",
              "    </tr>\n",
              "    <tr>\n",
              "      <th>996</th>\n",
              "      <td>996</td>\n",
              "      <td>Perrserker</td>\n",
              "      <td>['Steel']</td>\n",
              "      <td>440</td>\n",
              "      <td>70</td>\n",
              "      <td>110</td>\n",
              "      <td>100</td>\n",
              "      <td>50</td>\n",
              "      <td>60</td>\n",
              "      <td>50</td>\n",
              "    </tr>\n",
              "    <tr>\n",
              "      <th>997</th>\n",
              "      <td>997</td>\n",
              "      <td>Cursola</td>\n",
              "      <td>['Ghost']</td>\n",
              "      <td>510</td>\n",
              "      <td>60</td>\n",
              "      <td>95</td>\n",
              "      <td>50</td>\n",
              "      <td>145</td>\n",
              "      <td>130</td>\n",
              "      <td>30</td>\n",
              "    </tr>\n",
              "    <tr>\n",
              "      <th>998</th>\n",
              "      <td>998</td>\n",
              "      <td>Sirfetch'd</td>\n",
              "      <td>['Fighting']</td>\n",
              "      <td>507</td>\n",
              "      <td>62</td>\n",
              "      <td>135</td>\n",
              "      <td>95</td>\n",
              "      <td>68</td>\n",
              "      <td>82</td>\n",
              "      <td>65</td>\n",
              "    </tr>\n",
              "    <tr>\n",
              "      <th>999</th>\n",
              "      <td>999</td>\n",
              "      <td>Mr. Rime</td>\n",
              "      <td>['Psychic', 'Ice']</td>\n",
              "      <td>520</td>\n",
              "      <td>80</td>\n",
              "      <td>85</td>\n",
              "      <td>75</td>\n",
              "      <td>110</td>\n",
              "      <td>100</td>\n",
              "      <td>70</td>\n",
              "    </tr>\n",
              "  </tbody>\n",
              "</table>\n",
              "<p>1000 rows × 10 columns</p>\n",
              "</div>\n",
              "      <button class=\"colab-df-convert\" onclick=\"convertToInteractive('df-f0dca5c2-c94b-46ae-b3a9-348c2c30bed1')\"\n",
              "              title=\"Convert this dataframe to an interactive table.\"\n",
              "              style=\"display:none;\">\n",
              "        \n",
              "  <svg xmlns=\"http://www.w3.org/2000/svg\" height=\"24px\"viewBox=\"0 0 24 24\"\n",
              "       width=\"24px\">\n",
              "    <path d=\"M0 0h24v24H0V0z\" fill=\"none\"/>\n",
              "    <path d=\"M18.56 5.44l.94 2.06.94-2.06 2.06-.94-2.06-.94-.94-2.06-.94 2.06-2.06.94zm-11 1L8.5 8.5l.94-2.06 2.06-.94-2.06-.94L8.5 2.5l-.94 2.06-2.06.94zm10 10l.94 2.06.94-2.06 2.06-.94-2.06-.94-.94-2.06-.94 2.06-2.06.94z\"/><path d=\"M17.41 7.96l-1.37-1.37c-.4-.4-.92-.59-1.43-.59-.52 0-1.04.2-1.43.59L10.3 9.45l-7.72 7.72c-.78.78-.78 2.05 0 2.83L4 21.41c.39.39.9.59 1.41.59.51 0 1.02-.2 1.41-.59l7.78-7.78 2.81-2.81c.8-.78.8-2.07 0-2.86zM5.41 20L4 18.59l7.72-7.72 1.47 1.35L5.41 20z\"/>\n",
              "  </svg>\n",
              "      </button>\n",
              "      \n",
              "  <style>\n",
              "    .colab-df-container {\n",
              "      display:flex;\n",
              "      flex-wrap:wrap;\n",
              "      gap: 12px;\n",
              "    }\n",
              "\n",
              "    .colab-df-convert {\n",
              "      background-color: #E8F0FE;\n",
              "      border: none;\n",
              "      border-radius: 50%;\n",
              "      cursor: pointer;\n",
              "      display: none;\n",
              "      fill: #1967D2;\n",
              "      height: 32px;\n",
              "      padding: 0 0 0 0;\n",
              "      width: 32px;\n",
              "    }\n",
              "\n",
              "    .colab-df-convert:hover {\n",
              "      background-color: #E2EBFA;\n",
              "      box-shadow: 0px 1px 2px rgba(60, 64, 67, 0.3), 0px 1px 3px 1px rgba(60, 64, 67, 0.15);\n",
              "      fill: #174EA6;\n",
              "    }\n",
              "\n",
              "    [theme=dark] .colab-df-convert {\n",
              "      background-color: #3B4455;\n",
              "      fill: #D2E3FC;\n",
              "    }\n",
              "\n",
              "    [theme=dark] .colab-df-convert:hover {\n",
              "      background-color: #434B5C;\n",
              "      box-shadow: 0px 1px 3px 1px rgba(0, 0, 0, 0.15);\n",
              "      filter: drop-shadow(0px 1px 2px rgba(0, 0, 0, 0.3));\n",
              "      fill: #FFFFFF;\n",
              "    }\n",
              "  </style>\n",
              "\n",
              "      <script>\n",
              "        const buttonEl =\n",
              "          document.querySelector('#df-f0dca5c2-c94b-46ae-b3a9-348c2c30bed1 button.colab-df-convert');\n",
              "        buttonEl.style.display =\n",
              "          google.colab.kernel.accessAllowed ? 'block' : 'none';\n",
              "\n",
              "        async function convertToInteractive(key) {\n",
              "          const element = document.querySelector('#df-f0dca5c2-c94b-46ae-b3a9-348c2c30bed1');\n",
              "          const dataTable =\n",
              "            await google.colab.kernel.invokeFunction('convertToInteractive',\n",
              "                                                     [key], {});\n",
              "          if (!dataTable) return;\n",
              "\n",
              "          const docLinkHtml = 'Like what you see? Visit the ' +\n",
              "            '<a target=\"_blank\" href=https://colab.research.google.com/notebooks/data_table.ipynb>data table notebook</a>'\n",
              "            + ' to learn more about interactive tables.';\n",
              "          element.innerHTML = '';\n",
              "          dataTable['output_type'] = 'display_data';\n",
              "          await google.colab.output.renderOutput(dataTable, element);\n",
              "          const docLink = document.createElement('div');\n",
              "          docLink.innerHTML = docLinkHtml;\n",
              "          element.appendChild(docLink);\n",
              "        }\n",
              "      </script>\n",
              "    </div>\n",
              "  </div>\n",
              "  "
            ]
          },
          "metadata": {},
          "execution_count": 24
        }
      ]
    },
    {
      "cell_type": "markdown",
      "source": [
        "# Pre process the pokemon data to fit into a ML algorithm"
      ],
      "metadata": {
        "id": "GdFayg2czpWK"
      }
    },
    {
      "cell_type": "code",
      "source": [
        "#preparing the data\n",
        "X = df1.drop(columns=['Name','ID','Type','Total']) # features\n",
        "y = df1['Name'] #label\n",
        "X\n",
        "X = X.values # converting to values\n",
        "X"
      ],
      "metadata": {
        "id": "8xpJZ3TfzUHj",
        "outputId": "3f71c707-6df9-4cb4-ee68-8a5a5e5c39c1",
        "colab": {
          "base_uri": "https://localhost:8080/"
        }
      },
      "execution_count": 31,
      "outputs": [
        {
          "output_type": "execute_result",
          "data": {
            "text/plain": [
              "array([[ 45,  49,  49,  65,  65,  45],\n",
              "       [ 60,  62,  63,  80,  80,  60],\n",
              "       [ 80,  82,  83, 100, 100,  80],\n",
              "       ...,\n",
              "       [ 60,  95,  50, 145, 130,  30],\n",
              "       [ 62, 135,  95,  68,  82,  65],\n",
              "       [ 80,  85,  75, 110, 100,  70]])"
            ]
          },
          "metadata": {},
          "execution_count": 31
        }
      ]
    },
    {
      "cell_type": "markdown",
      "source": [
        "# Learn the features of the pokemon species"
      ],
      "metadata": {
        "id": "t_L5wdhTzliy"
      }
    },
    {
      "cell_type": "code",
      "source": [
        "model = DecisionTreeClassifier(criterion='gini')\n",
        "model.fit(X,y)"
      ],
      "metadata": {
        "colab": {
          "base_uri": "https://localhost:8080/"
        },
        "id": "3cN8YsQezgYD",
        "outputId": "a2239790-0554-4bd1-cad7-1f123be1a409"
      },
      "execution_count": 36,
      "outputs": [
        {
          "output_type": "execute_result",
          "data": {
            "text/plain": [
              "DecisionTreeClassifier()"
            ]
          },
          "metadata": {},
          "execution_count": 36
        }
      ]
    },
    {
      "cell_type": "markdown",
      "source": [
        "# Predict a pokemon"
      ],
      "metadata": {
        "id": "NFlF2WSCzjGj"
      }
    },
    {
      "cell_type": "code",
      "source": [
        "input = [ [45, 49, 49, 65, 65, 45] ]\n",
        "y_pred = model.predict(input)\n",
        "print(\"The predicted pokemon is \")\n",
        "y_pred[0]"
      ],
      "metadata": {
        "colab": {
          "base_uri": "https://localhost:8080/",
          "height": 53
        },
        "id": "wtgTMG5cziTD",
        "outputId": "302f0497-5db7-404f-9719-82d40a402fe8"
      },
      "execution_count": 44,
      "outputs": [
        {
          "output_type": "stream",
          "name": "stdout",
          "text": [
            "The predicted pokemon is \n"
          ]
        },
        {
          "output_type": "execute_result",
          "data": {
            "text/plain": [
              "'Bulbasaur'"
            ],
            "application/vnd.google.colaboratory.intrinsic+json": {
              "type": "string"
            }
          },
          "metadata": {},
          "execution_count": 44
        }
      ]
    },
    {
      "cell_type": "markdown",
      "source": [
        "<img src='https://assets.pokemon.com/assets/cms2/img/pokedex/full/129.png'/>"
      ],
      "metadata": {
        "id": "CJ4HLSYs0aOj"
      }
    }
  ]
}