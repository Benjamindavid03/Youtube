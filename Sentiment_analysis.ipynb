{
  "nbformat": 4,
  "nbformat_minor": 0,
  "metadata": {
    "colab": {
      "name": "Sentiment analysis.ipynb",
      "provenance": [],
      "collapsed_sections": [],
      "include_colab_link": true
    },
    "kernelspec": {
      "name": "python3",
      "display_name": "Python 3"
    },
    "language_info": {
      "name": "python"
    }
  },
  "cells": [
    {
      "cell_type": "markdown",
      "metadata": {
        "id": "view-in-github",
        "colab_type": "text"
      },
      "source": [
        "<a href=\"https://colab.research.google.com/github/Benjamindavid03/youtube/blob/main/Sentiment_analysis.ipynb\" target=\"_parent\"><img src=\"https://colab.research.google.com/assets/colab-badge.svg\" alt=\"Open In Colab\"/></a>"
      ]
    },
    {
      "cell_type": "markdown",
      "source": [
        "#VADER Sentiment Analysis\n",
        "<p>VADER (Valence Aware Dictionary and sEntiment Reasoner) is a lexicon and rule-based sentiment analysis tool that is specifically attuned to sentiments expressed in social media. VADER uses a combination of A sentiment lexicon is a list of lexical features (e.g., words) which are generally labeled according to their semantic orientation as either positive or negative. VADER not only tells about the Positivity and Negativity score but also tells us about how positive or negative a sentiment is.</p>"
      ],
      "metadata": {
        "id": "QdwfCuUXgZNC"
      }
    },
    {
      "cell_type": "code",
      "execution_count": 8,
      "metadata": {
        "colab": {
          "base_uri": "https://localhost:8080/"
        },
        "id": "y0z-xVAPgK6G",
        "outputId": "6995d8b1-3bff-4af1-fdbc-72183511037a"
      },
      "outputs": [
        {
          "output_type": "stream",
          "name": "stdout",
          "text": [
            "Looking in indexes: https://pypi.org/simple, https://us-python.pkg.dev/colab-wheels/public/simple/\n",
            "Requirement already satisfied: vaderSentiment in /usr/local/lib/python3.7/dist-packages (3.3.2)\n",
            "Requirement already satisfied: requests in /usr/local/lib/python3.7/dist-packages (from vaderSentiment) (2.23.0)\n",
            "Requirement already satisfied: idna<3,>=2.5 in /usr/local/lib/python3.7/dist-packages (from requests->vaderSentiment) (2.10)\n",
            "Requirement already satisfied: urllib3!=1.25.0,!=1.25.1,<1.26,>=1.21.1 in /usr/local/lib/python3.7/dist-packages (from requests->vaderSentiment) (1.24.3)\n",
            "Requirement already satisfied: chardet<4,>=3.0.2 in /usr/local/lib/python3.7/dist-packages (from requests->vaderSentiment) (3.0.4)\n",
            "Requirement already satisfied: certifi>=2017.4.17 in /usr/local/lib/python3.7/dist-packages (from requests->vaderSentiment) (2022.9.24)\n"
          ]
        }
      ],
      "source": [
        "!pip install vaderSentiment"
      ]
    },
    {
      "cell_type": "code",
      "source": [
        "# import SentimentIntensityAnalyzer class\n",
        "# from vaderSentiment.vaderSentiment module.\n",
        "from vaderSentiment.vaderSentiment import SentimentIntensityAnalyzer\n",
        " \n",
        "# function to print sentiments\n",
        "# of the sentence.\n",
        "def sentiment_scores(sentence):\n",
        " \n",
        "    # Create a SentimentIntensityAnalyzer object.\n",
        "    sid_obj = SentimentIntensityAnalyzer()\n",
        " \n",
        "    # polarity_scores method of SentimentIntensityAnalyzer\n",
        "    # object gives a sentiment dictionary.\n",
        "    # which contains pos, neg, neu, and compound scores.\n",
        "    sentiment_dict = sid_obj.polarity_scores(sentence)\n",
        "     \n",
        "    print(\"Overall sentiment dictionary is : \", sentiment_dict)\n",
        "    print(\"sentence was rated as \", sentiment_dict['neg']*100, \"% Negative\") \n",
        "    print(\"sentence was rated as \", sentiment_dict['neu']*100, \"% Neutral\") \n",
        "    print(\"sentence was rated as \", sentiment_dict['pos']*100, \"% Positive\")\n",
        " \n",
        "    print(\"Sentence Overall Rated As\", end = \" \")\n",
        " \n",
        "    # decide sentiment as positive, negative and neutral\n",
        "    if sentiment_dict['compound'] >= 0.05 :\n",
        "        print(\"Positive\")\n",
        "    elif sentiment_dict['compound'] <= - 0.05 :\n",
        "        print(\"Negative\") \n",
        "    else :\n",
        "        print(\"Neutral\")"
      ],
      "metadata": {
        "id": "ZSzCpZtGgkXC"
      },
      "execution_count": 7,
      "outputs": []
    },
    {
      "cell_type": "code",
      "source": [
        "print(\"\\n1st statement :\")\n",
        "sentence = \"This session is going to be interesting.\"\n",
        " \n",
        "# function calling\n",
        "sentiment_scores(sentence)\n",
        " \n",
        "print(\"\\n2nd Statement :\")\n",
        "sentence = \"study is going on as usual\"\n",
        "sentiment_scores(sentence)\n",
        " \n",
        "print(\"\\n3rd Statement :\")\n",
        "sentence = \"I am very sad today.\"\n",
        "sentiment_scores(sentence)"
      ],
      "metadata": {
        "id": "hesVzZ8GgnNL",
        "outputId": "9bac1e6f-8a53-4599-d8c1-70116a76aa94",
        "colab": {
          "base_uri": "https://localhost:8080/"
        }
      },
      "execution_count": 4,
      "outputs": [
        {
          "output_type": "stream",
          "name": "stdout",
          "text": [
            "\n",
            "1st statement :\n",
            "Overall sentiment dictionary is :  {'neg': 0.0, 'neu': 0.69, 'pos': 0.31, 'compound': 0.4019}\n",
            "sentence was rated as  0.0 % Negative\n",
            "sentence was rated as  69.0 % Neutral\n",
            "sentence was rated as  31.0 % Positive\n",
            "Sentence Overall Rated As Positive\n",
            "\n",
            "2nd Statement :\n",
            "Overall sentiment dictionary is :  {'neg': 0.0, 'neu': 1.0, 'pos': 0.0, 'compound': 0.0}\n",
            "sentence was rated as  0.0 % Negative\n",
            "sentence was rated as  100.0 % Neutral\n",
            "sentence was rated as  0.0 % Positive\n",
            "Sentence Overall Rated As Neutral\n",
            "\n",
            "3rd Statement :\n",
            "Overall sentiment dictionary is :  {'neg': 0.459, 'neu': 0.541, 'pos': 0.0, 'compound': -0.5256}\n",
            "sentence was rated as  45.9 % Negative\n",
            "sentence was rated as  54.1 % Neutral\n",
            "sentence was rated as  0.0 % Positive\n",
            "Sentence Overall Rated As Negative\n"
          ]
        }
      ]
    },
    {
      "cell_type": "code",
      "source": [
        "str = input(\"Enter the text from twitter\") #https://twitter.com/Benjamindavid03\n",
        "#Example text : A Sword that's never tested in battle fails to be agile and sharp. Only though countless battles and war, the sword becomes a Pride. Otherwise, It looses its Purpose and shine. There's no destiny for the sword. Its just a worthless piece of metal\n",
        "sentiment_scores(str)"
      ],
      "metadata": {
        "colab": {
          "base_uri": "https://localhost:8080/"
        },
        "id": "Lf-dITUXhAnL",
        "outputId": "9deb668b-15d5-457b-90de-7dbabd52b786"
      },
      "execution_count": 10,
      "outputs": [
        {
          "output_type": "stream",
          "name": "stdout",
          "text": [
            "Enter the text from twitterA Sword that's never tested in battle fails to be agile and sharp. Only though countless battles and war, the sword becomes a Pride. Otherwise, It looses its Purpose and shine. There's no destiny for the sword. Its just a worthless piece of metal.\n",
            "Overall sentiment dictionary is :  {'neg': 0.283, 'neu': 0.636, 'pos': 0.081, 'compound': -0.8864}\n",
            "sentence was rated as  28.299999999999997 % Negative\n",
            "sentence was rated as  63.6 % Neutral\n",
            "sentence was rated as  8.1 % Positive\n",
            "Sentence Overall Rated As Negative\n"
          ]
        }
      ]
    }
  ]
}